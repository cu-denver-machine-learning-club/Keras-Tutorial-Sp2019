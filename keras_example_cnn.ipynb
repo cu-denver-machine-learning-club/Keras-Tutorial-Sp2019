{
 "cells": [
  {
   "cell_type": "markdown",
   "metadata": {
    "slideshow": {
     "slide_type": "slide"
    }
   },
   "source": [
    "# Keras MNIST Example\n",
    "\n",
    "![MnistExamples.png](images/MnistExamples.png) \n",
    "(source: [Wikipedia](https://en.wikipedia.org/wiki/MNIST_database))"
   ]
  },
  {
   "cell_type": "code",
   "execution_count": 1,
   "metadata": {
    "slideshow": {
     "slide_type": "slide"
    }
   },
   "outputs": [
    {
     "name": "stdout",
     "output_type": "stream",
     "text": [
      "1.12.0\n"
     ]
    }
   ],
   "source": [
    "\"\"\"\n",
    "Imports\n",
    "\"\"\"\n",
    "import numpy as np  # for array wrangling\n",
    "import tensorflow as tf\n",
    "from tensorflow import keras\n",
    "import matplotlib.pyplot as plt  # for visualizing digits\n",
    "\n",
    "\n",
    "print(tf.__version__)  # this notebooke was written for tf 1.12.0"
   ]
  },
  {
   "cell_type": "markdown",
   "metadata": {
    "slideshow": {
     "slide_type": "slide"
    }
   },
   "source": [
    "## Dataset\n",
    "\n",
    "Load and display some sample images and their distribution. Luckily, the MNIST dataset can be downloaded directly using Keras."
   ]
  },
  {
   "cell_type": "code",
   "execution_count": 2,
   "metadata": {
    "slideshow": {
     "slide_type": "slide"
    }
   },
   "outputs": [],
   "source": [
    "\"\"\"\n",
    "Download Data\n",
    "\"\"\"\n",
    "# Keras (and Tensorflow) come prepackaged with some datasets\n",
    "mnist_data = keras.datasets.mnist\n",
    "# loading data loads 4 items:\n",
    "#   traim_imgs - images used to train the model\n",
    "#   train_lbls - \"ground truth\" label for each input image\n",
    "#   test_imgs - images used to test the model\n",
    "#   test_lbls - labels for test images\n",
    "(train_imgs, train_lbls), (test_imgs, test_lbls) = mnist_data.load_data() \n"
   ]
  },
  {
   "cell_type": "code",
   "execution_count": 3,
   "metadata": {},
   "outputs": [
    {
     "data": {
      "image/png": "[encoded data removed]",
      "text/plain": [
       "<matplotlib.figure.Figure at 0x12a835ac8>"
      ]
     },
     "metadata": {},
     "output_type": "display_data"
    }
   ],
   "source": [
    "\"\"\"\n",
    "Examine Inputs\n",
    "\"\"\"\n",
    "# choose some random digits and plot them\n",
    "rand_idx = np.random.choice(test_imgs.shape[0], 3)\n",
    "# 1x3 plot for 3 images\n",
    "fig, axs = plt.subplots(1, 3)\n",
    "for i, img in enumerate(rand_idx):\n",
    "    axs[i].imshow(test_imgs[img], cmap='Greys') # plots an image in grayscale\n",
    "# make image viewable and plot\n",
    "fig.set_figheight(15)\n",
    "fig.set_figwidth(15)\n",
    "plt.show()"
   ]
  },
  {
   "cell_type": "code",
   "execution_count": 4,
   "metadata": {},
   "outputs": [
    {
     "data": {
      "image/png": "[encoded data removed]",
      "text/plain": [
       "<matplotlib.figure.Figure at 0x1023b6fd0>"
      ]
     },
     "metadata": {},
     "output_type": "display_data"
    }
   ],
   "source": [
    "\"\"\"\n",
    "Examine Distributions\n",
    "\"\"\"\n",
    "\n",
    "# this plots the relative amounts of each digit among the train and test datasets\n",
    "# this dataset is very well curated, but there could be a senario where an input\n",
    "# shows up much more in the train or test sets, which would throw off the model\n",
    "# and might lead to bad test performance\n",
    "counts_train = np.bincount(train_lbls) / train_lbls.shape[0]  # normalized counts\n",
    "counts_test = np.bincount(test_lbls) / test_lbls.shape[0]     # normalized counts\n",
    "frac_train = counts_train / (counts_train + counts_test)      # fraction train\n",
    "frac_test = counts_test / (counts_train + counts_test)        # fraction test\n",
    "# plot as stacked bar chart\n",
    "fig, ax = plt.subplots(1,1)\n",
    "ax.bar(range(10), frac_train)\n",
    "ax.bar(range(10), frac_test, bottom=frac_train)\n",
    "ax.set_xticks(range(10))\n",
    "fig.legend(['Train', 'Test'])\n",
    "fig.set_figheight(8)\n",
    "fig.set_figwidth(8)\n",
    "plt.show()"
   ]
  },
  {
   "cell_type": "markdown",
   "metadata": {},
   "source": [
    "## Model \n",
    "\n",
    "### Neural Network\n",
    "![neuron.png](images/neuron.png)\n",
    "![neural_net2.jpeg](images/neural_net2.jpeg)\n",
    "Source [Standford](http://cs231n.github.io/neural-networks-1/)"
   ]
  },
  {
   "cell_type": "code",
   "execution_count": 5,
   "metadata": {},
   "outputs": [],
   "source": [
    "\"\"\"\n",
    "Dense-only Keras Model\n",
    "\"\"\"\n",
    "\n",
    "# Model Definitions:\n",
    "#    Reshape - makes images \"3D\" by adding an empty dimension, Conv2D expects a 3D image\n",
    "#      which is necessary for color images (e.g. the 3rd Dimension is Red, Blue, and Green)\n",
    "#    Con2D - convolutional layer that works on 2D images (with 3rd dimension being channel)\n",
    "#      filters - the \"depth\" of the output, number of feature maps to output from layer\n",
    "#      kernel_size - size of sliding window that scans image (in above figure, kernel is in red)\n",
    "#      strides - how far to slide kernel at each step (e.g. shift 1 to the right)\n",
    "#      activation - function to apply to output of CNN, relu (REctified Linear Unit) is f(x) = max(0, x)\n",
    "#      padding - add 0's to all sides of image so kernal can slide over image evenly (i.e. can't have\n",
    "#        a fraction of a pixel), same means add enough 0's to make output same size as input (in 2D)\n",
    "#    Flatten - make matrix 1D\n",
    "#    Dense - fully connected (i.e. \"Regular\" Neural Network), size should equal number of output classes\n",
    "model_dense_only = keras.Sequential([\n",
    "    keras.layers.Flatten(),\n",
    "    keras.layers.Dense(10, activation=tf.nn.softmax)\n",
    "])"
   ]
  },
  {
   "cell_type": "code",
   "execution_count": 6,
   "metadata": {},
   "outputs": [],
   "source": [
    "\"\"\"\n",
    "Compile the Model\n",
    "\"\"\"\n",
    "\n",
    "# compiling the model optimizes the model and prepares it to run on the input data\n",
    "# Definitions:\n",
    "#    Optimizer - how to \"tune\" the model (i.e. how to learn), adam is a popular choice alongside \n",
    "#      gradient descent\n",
    "#    Loss - what function to use to compare the output and the actual label, the higher the loss\n",
    "#      the more the model needs to be \"tuned\", crossentropy is useful for discrete outputs and \n",
    "#      squared mean error for continuous ones\n",
    "#    Metrics - what to use to evaluate the performance of the model (accuracy, F1, etc.)\n",
    "model_dense_only.compile(\n",
    "    optimizer='adam',\n",
    "    loss='sparse_categorical_crossentropy',\n",
    "    metrics=['accuracy']\n",
    ")"
   ]
  },
  {
   "cell_type": "code",
   "execution_count": 7,
   "metadata": {},
   "outputs": [
    {
     "name": "stdout",
     "output_type": "stream",
     "text": [
      "Epoch 1/5\n",
      "60000/60000 [==============================] - 2s 27us/step - loss: 10.2024 - acc: 0.3651\n",
      "Epoch 2/5\n",
      "60000/60000 [==============================] - 1s 24us/step - loss: 8.9592 - acc: 0.4428\n",
      "Epoch 3/5\n",
      "60000/60000 [==============================] - 1s 24us/step - loss: 7.5383 - acc: 0.5305\n",
      "Epoch 4/5\n",
      "60000/60000 [==============================] - 1s 24us/step - loss: 7.1239 - acc: 0.5566\n",
      "Epoch 5/5\n",
      "60000/60000 [==============================] - 1s 23us/step - loss: 7.0751 - acc: 0.5598\n",
      "10000/10000 [==============================] - 0s 15us/step\n",
      "Test accuracy: 0.5703\n"
     ]
    }
   ],
   "source": [
    "\"\"\"\n",
    "Train & Test\n",
    "\"\"\"\n",
    "model_dense_only.fit(train_imgs, train_lbls, epochs=5)\n",
    "test_loss, test_acc = model_dense_only.evaluate(test_imgs, test_lbls)\n",
    "\n",
    "print('Test accuracy:', test_acc)"
   ]
  },
  {
   "cell_type": "markdown",
   "metadata": {},
   "source": [
    "### Convolutional Neural Network\n",
    "![Typical_cnn.png](images/Typical_cnn.png)\n",
    "(source: [Wikipedia](https://en.wikipedia.org/wiki/Convolutional_neural_network))\n",
    "![cnn_internal.png](images/cnn_internal.png)\n",
    "(source: [Stanford](http://cs231n.github.io/convolutional-networks/))"
   ]
  },
  {
   "cell_type": "code",
   "execution_count": 8,
   "metadata": {},
   "outputs": [],
   "source": [
    "\"\"\"\n",
    "Declare Keras Model\n",
    "\"\"\"\n",
    "\n",
    "# Model Definitions:\n",
    "#    Reshape - makes images \"3D\" by adding an empty dimension, Conv2D expects a 3D image\n",
    "#      which is necessary for color images (e.g. the 3rd Dimension is Red, Blue, and Green)\n",
    "#    Con2D - convolutional layer that works on 2D images (with 3rd dimension being channel)\n",
    "#      filters - the \"depth\" of the output, number of feature maps to output from layer\n",
    "#      kernel_size - size of sliding window that scans image (in above figure, kernel is in red)\n",
    "#      strides - how far to slide kernel at each step (e.g. shift 1 to the right)\n",
    "#      activation - function to apply to output of CNN, relu (REctified Linear Unit) is f(x) = max(0, x)\n",
    "#      padding - add 0's to all sides of image so kernal can slide over image evenly (i.e. can't have\n",
    "#        a fraction of a pixel), same means add enough 0's to make output same size as input (in 2D)\n",
    "#    Flatten - make matrix 1D\n",
    "#    Dense - fully connected (i.e. \"Regular\" Neural Network), size should equal number of output classes\n",
    "model = keras.Sequential([\n",
    "    keras.layers.Reshape(target_shape=(28, 28, 1)),\n",
    "    keras.layers.Conv2D(filters=2, kernel_size=4, strides=1, activation=tf.nn.relu, padding=\"same\"),\n",
    "    keras.layers.Flatten(),\n",
    "    keras.layers.Dense(10, activation=tf.nn.softmax)\n",
    "])"
   ]
  },
  {
   "cell_type": "code",
   "execution_count": 9,
   "metadata": {},
   "outputs": [],
   "source": [
    "\"\"\"\n",
    "Compile the Model\n",
    "\"\"\"\n",
    "\n",
    "# compiling the model optimizes the model and prepares it to run on the input data\n",
    "# Definitions:\n",
    "#    Optimizer - how to \"tune\" the model (i.e. how to learn), adam is a popular choice alongside \n",
    "#      gradient descent\n",
    "#    Loss - what function to use to compare the output and the actual label, the higher the loss\n",
    "#      the more the model needs to be \"tuned\", crossentropy is useful for discrete outputs and \n",
    "#      squared mean error for continuous ones\n",
    "#    Metrics - what to use to evaluate the performance of the model (accuracy, F1, etc.)\n",
    "model.compile(\n",
    "    optimizer='adam',\n",
    "    loss='sparse_categorical_crossentropy',\n",
    "    metrics=['accuracy']\n",
    ")"
   ]
  },
  {
   "cell_type": "markdown",
   "metadata": {},
   "source": [
    "## Our Model\n",
    "![our_model.png](images/our_model.png)"
   ]
  },
  {
   "cell_type": "code",
   "execution_count": 10,
   "metadata": {},
   "outputs": [],
   "source": [
    "\"\"\"\n",
    "Untrainable Model for Activations\n",
    "\"\"\"\n",
    "\n",
    "# This model uses the same first two layers as the other model but inherits the \n",
    "# weights of the CNN in our trained model, this way we can extract the \n",
    "# activations (more on this later)\n",
    "model_demo = keras.Sequential()\n",
    "model_demo.add(keras.layers.Reshape(target_shape=(28, 28, 1)))\n",
    "model_demo.add(keras.layers.Conv2D(\n",
    "    filters=2, \n",
    "    kernel_size=4, \n",
    "    strides=2, \n",
    "    activation=tf.nn.relu, \n",
    "    padding=\"same\",\n",
    "    weights=model.layers[1].get_weights()))"
   ]
  },
  {
   "cell_type": "code",
   "execution_count": 11,
   "metadata": {},
   "outputs": [
    {
     "name": "stdout",
     "output_type": "stream",
     "text": [
      "Epoch 1/1\n",
      "60000/60000 [==============================] - 7s 120us/step - loss: 4.6873 - acc: 0.6908\n"
     ]
    },
    {
     "data": {
      "image/png": "[encoded data removed]",
      "text/plain": [
       "<matplotlib.figure.Figure at 0x1309f9f28>"
      ]
     },
     "metadata": {},
     "output_type": "display_data"
    }
   ],
   "source": [
    "\"\"\"\n",
    "Train One Epoch\n",
    "\"\"\"\n",
    "# Train the model (1 epoch = run through whole dataset 1 time)\n",
    "model.fit(train_imgs, train_lbls, epochs=1)\n",
    "\n",
    "# Generate probabilities, predictions, and activations\n",
    "# Model outputs probabilities of each class label for each input\n",
    "# Highest probability becomes the predicted output\n",
    "probas = model.predict(test_imgs)\n",
    "prdctd_lbls = np.argmax(probas, axis=1)\n",
    "activations = model_demo.predict(test_imgs)\n",
    "\n",
    "# Plot:\n",
    "#  1 - input image (chosen at random) with predicted label in top-left corner\n",
    "#    colored red if incorrect, white otherwise\n",
    "#  2 - Activation of feature map 1 as a heatmap (to show inner workings of CNN)\n",
    "#  3 - Activation of feature map 2\n",
    "fig, axs = plt.subplots(3, 3)\n",
    "for i, img in enumerate(rand_idx):\n",
    "    axs[0][i].imshow(test_imgs[img], cmap='Greys')\n",
    "    # color background based on correctness\n",
    "    color = 'white' if prdctd_lbls[img] == test_lbls[img] else 'red'\n",
    "    # display the predicted label in the top left\n",
    "    axs[0][i].text(1, 2, prdctd_lbls[img], fontsize='xx-large', bbox=dict(facecolor=color, alpha=1))\n",
    "    # display activations\n",
    "    axs[1][i].imshow(activations[img][:, :, 0], cmap='hot', interpolation='nearest')\n",
    "    axs[2][i].imshow(activations[img][:, :, 1], cmap='hot', interpolation='nearest')\n",
    "fig.set_figheight(10)\n",
    "fig.set_figwidth(10)\n",
    "plt.show()"
   ]
  },
  {
   "cell_type": "code",
   "execution_count": 12,
   "metadata": {},
   "outputs": [
    {
     "name": "stdout",
     "output_type": "stream",
     "text": [
      "Epoch 1/1\n",
      "60000/60000 [==============================] - 10s 160us/step - loss: 2.7514 - acc: 0.8195\n"
     ]
    },
    {
     "data": {
      "image/png": "[encoded data removed]",
      "text/plain": [
       "<matplotlib.figure.Figure at 0x132e5e128>"
      ]
     },
     "metadata": {},
     "output_type": "display_data"
    }
   ],
   "source": [
    "\"\"\"\n",
    "Run Epoch 2\n",
    "\"\"\"\n",
    "\n",
    "# unlike other machine learning models that learn on a single pass through the data\n",
    "# (e.g. KNN or Naive Bayes), deep learning models typically see the data multiple times\n",
    "# while training, slightly tuning its interal parameters by backprogagation with each \n",
    "# pass through the data: an epoch\n",
    "\n",
    "model.fit(train_imgs, train_lbls, epochs=1)\n",
    "\n",
    "probas = model.predict(test_imgs)\n",
    "prdctd_lbls = np.argmax(probas, axis=1)\n",
    "activations = model_demo.predict(test_imgs)\n",
    "\n",
    "# the model may be more accurate at this point and the activations may be more clear\n",
    "# with regards to what feature they are defining \n",
    "fig, axs = plt.subplots(3, 3)\n",
    "for i, img in enumerate(rand_idx):\n",
    "    axs[0][i].imshow(test_imgs[img], cmap='Greys')\n",
    "    # color background based on correctness\n",
    "    color = 'white' if prdctd_lbls[img] == test_lbls[img] else 'red'\n",
    "    # display the predicted label in the top left\n",
    "    axs[0][i].text(1, 2, prdctd_lbls[img], fontsize='xx-large', bbox=dict(facecolor=color, alpha=1))\n",
    "    # display activations\n",
    "    axs[1][i].imshow(activations[img][:, :, 0], cmap='hot', interpolation='nearest')\n",
    "    axs[2][i].imshow(activations[img][:, :, 1], cmap='hot', interpolation='nearest')\n",
    "fig.set_figheight(10)\n",
    "fig.set_figwidth(10)\n",
    "plt.show()"
   ]
  },
  {
   "cell_type": "code",
   "execution_count": 13,
   "metadata": {},
   "outputs": [
    {
     "name": "stdout",
     "output_type": "stream",
     "text": [
      "10000/10000 [==============================] - 1s 68us/step\n",
      "Test accuracy: 0.8646\n"
     ]
    }
   ],
   "source": [
    "\"\"\"\n",
    "Test Accuracy\n",
    "\"\"\"\n",
    "# The data is almost always split into 2 sets: training and test. The model is only trained\n",
    "# on the training data, then evaluated using the test data. This way if the model doesn't\n",
    "# generalize (e.g. it doesn't learn general features of the data, only features specific to\n",
    "# the training data), the test accuracy will reflect that (i.e. high training accuracy but\n",
    "# low test accuracy known as overfitting)\n",
    "test_loss, test_acc = model.evaluate(test_imgs, test_lbls)\n",
    "\n",
    "print('Test accuracy:', test_acc)"
   ]
  },
  {
   "cell_type": "code",
   "execution_count": 14,
   "metadata": {},
   "outputs": [
    {
     "data": {
      "image/png": "[encoded data removed]",
      "text/plain": [
       "<matplotlib.figure.Figure at 0x132ee6b70>"
      ]
     },
     "metadata": {},
     "output_type": "display_data"
    }
   ],
   "source": [
    "\"\"\"\n",
    "Distribution of Predictions\n",
    "\"\"\"\n",
    "\n",
    "# Plot the relative number of correct predictions per class\n",
    "correct = prdctd_lbls == test_lbls # get correct guesses\n",
    "corr_count = np.bincount(test_lbls[correct])\n",
    "corr_rel = corr_count / corr_count.sum()\n",
    "fig, ax = plt.subplots(1, 1)\n",
    "ax.bar(range(10), corr_count)\n",
    "ax.set_xticks(range(10))\n",
    "fig.set_figheight(8)\n",
    "fig.set_figwidth(10)\n",
    "plt.show()"
   ]
  },
  {
   "cell_type": "code",
   "execution_count": 15,
   "metadata": {},
   "outputs": [
    {
     "name": "stdout",
     "output_type": "stream",
     "text": [
      "[[ 969    0   10    1    1    3   16    0   78    4]\n",
      " [   0 1114    4    0    4    8    6    1   73    7]\n",
      " [   2    8  995   10    7    2    2   23  263    6]\n",
      " [   0    2    5  952    0   15    0   14   78    8]\n",
      " [   1    3    3    1  947    1    4    9   60   24]\n",
      " [   5    0    1   35    0  847    4    2  199    5]\n",
      " [   2    8    2    0    5    9  926    0   45    0]\n",
      " [   0    0   11    4    2    2    0  951   17   10]\n",
      " [   0    0    0    0    0    0    0    0    0    0]\n",
      " [   1    0    1    7   16    5    0   28  161  945]]\n"
     ]
    }
   ],
   "source": [
    "\"\"\"\n",
    "Use Confusion Matrix\n",
    "\"\"\"\n",
    "\n",
    "# confusion matrix provide more indepth results by showing the \n",
    "# number of each predicted digit (columns) and actual digits (rows)\n",
    "# so for example row 0, col 0 is 955 0's that were predicted 0, row 0, col1\n",
    "# shows 0 0's were mistaken for 1's and row 1, col 0 shows 2 1's were predicted\n",
    "# as 0's\n",
    "from sklearn.metrics import confusion_matrix\n",
    "print(confusion_matrix(prdctd_lbls, test_lbls))"
   ]
  },
  {
   "cell_type": "code",
   "execution_count": 16,
   "metadata": {},
   "outputs": [
    {
     "data": {
      "image/png": "[encoded data removed]",
      "text/plain": [
       "<matplotlib.figure.Figure at 0x135aa4e10>"
      ]
     },
     "metadata": {},
     "output_type": "display_data"
    }
   ],
   "source": [
    "\"\"\"\n",
    "Interesting Examples\n",
    "\"\"\"\n",
    "\n",
    "# These inputs are more difficult to classify and may show some interesting results \n",
    "# either by being incorrectly classified, or potentially classified better than by a human \n",
    "# this plot includes the probabilities of each output to show what the model thought might be\n",
    "# its next best guess or how confident it was with its results\n",
    "wrongs = [6576, 1621, 1260]\n",
    "fig, axs = plt.subplots(2, 3)\n",
    "for i, img in enumerate(wrongs):\n",
    "    axs[0][i].imshow(test_imgs[img], cmap='Greys')\n",
    "    # color background based on correctness\n",
    "    color = 'white' if prdctd_lbls[img] == test_lbls[img] else 'red'\n",
    "    # display the predicted label in the top left\n",
    "    axs[0][i].text(1, 2, prdctd_lbls[img], fontsize='xx-large', bbox=dict(facecolor=color, alpha=1))\n",
    "    # display the predicted probabilities\n",
    "    axs[1][i].bar(range(10), probas[img])\n",
    "fig.set_figheight(15)\n",
    "fig.set_figwidth(15)\n",
    "plt.show()"
   ]
  },
  {
   "cell_type": "code",
   "execution_count": 18,
   "metadata": {},
   "outputs": [
    {
     "data": {
      "image/png": "[encoded data removed]",
      "text/plain": [
       "<matplotlib.figure.Figure at 0x135cc28d0>"
      ]
     },
     "metadata": {},
     "output_type": "display_data"
    }
   ],
   "source": [
    "\"\"\"\n",
    "Activations\n",
    "\"\"\"\n",
    "# same as above but showing activations rather than probabilities\n",
    "ig, axs = plt.subplots(3, 3)\n",
    "for i, img in enumerate(wrongs):\n",
    "    axs[0][i].imshow(test_imgs[img], cmap='Greys')\n",
    "    # color background based on correctness\n",
    "    color = 'white' if prdctd_lbls[img] == test_lbls[img] else 'red'\n",
    "    # display the predicted label in the top left\n",
    "    axs[0][i].text(1, 2, prdctd_lbls[img], fontsize='xx-large', bbox=dict(facecolor=color, alpha=1))\n",
    "    axs[1][i].imshow(activations[img][:, :, 0], cmap='hot')\n",
    "    axs[2][i].imshow(activations[img][:, :, 1], cmap='hot')\n",
    "fig.set_figheight(15)\n",
    "fig.set_figwidth(15)\n",
    "plt.show()"
   ]
  },
  {
   "cell_type": "markdown",
   "metadata": {},
   "source": [
    "\n",
    "## Further Improvements\n",
    "\n",
    "There are plenty of things to do to improve this model, some examples you can try yourself are:\n",
    "<li> Add more CNN layers</li>\n",
    " <li> Add pooling layer after CNN layer </li>\n",
    " <li> Normalize inputs between 0-1 </li>\n",
    " <li> Add dropout layer before CNN layer </li>\n",
    " <li> Augment dataset by rotating/scaling/transforming</li>\n"
   ]
  },
  {
   "cell_type": "code",
   "execution_count": null,
   "metadata": {},
   "outputs": [],
   "source": []
  }
 ],
 "metadata": {
  "kernelspec": {
   "display_name": "Python 3",
   "language": "python",
   "name": "python3"
  },
  "language_info": {
   "codemirror_mode": {
    "name": "ipython",
    "version": 3
   },
   "file_extension": ".py",
   "mimetype": "text/x-python",
   "name": "python",
   "nbconvert_exporter": "python",
   "pygments_lexer": "ipython3",
   "version": "3.6.8"
  }
 },
 "nbformat": 4,
 "nbformat_minor": 2
}
